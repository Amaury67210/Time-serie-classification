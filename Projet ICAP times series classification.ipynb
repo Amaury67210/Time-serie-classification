{
 "cells":[
  {
   "cell_type":"code",
   "source":[
    "import pandas as pd\n",
    "import numpy as np\n",
    "import tensorflow.keras as keras\n",
    "import tensorflow.keras.utils\n",
    "from tqdm.notebook import tqdm\n",
    "from sklearn.preprocessing import StandardScaler\n",
    "from sklearn.model_selection import train_test_split\n",
    "from tensorflow.keras import layers\n",
    "from sklearn.metrics import confusion_matrix, ConfusionMatrixDisplay, f1_score\n",
    "import matplotlib.pyplot as plt"
   ],
   "execution_count":95,
   "outputs":[
    
   ],
   "metadata":{
    "datalore":{
     "node_id":"zTGqTbYJRxU89LMhviBfEt",
     "type":"CODE",
     "hide_input_from_viewers":true,
     "hide_output_from_viewers":true
    }
   }
  },
  {
   "cell_type":"code",
   "source":[
    "## import des données \n",
    "df = pd.read_csv(\"\/data\/notebook_files\/oil_wells_data.csv\")"
   ],
   "execution_count":96,
   "outputs":[
    
   ],
   "metadata":{
    "datalore":{
     "node_id":"9p7agqBhtdXbIwf9eEtsjH",
     "type":"CODE",
     "hide_input_from_viewers":true,
     "hide_output_from_viewers":true
    }
   }
  },
  {
   "cell_type":"markdown",
   "source":[
    "## On effectue ensuite la preparation des données telle que décrite dans le premier rapport"
   ],
   "attachments":{
    
   },
   "metadata":{
    "datalore":{
     "node_id":"uHQZQPIVloqdCm7kuWPV4I",
     "type":"MD",
     "hide_input_from_viewers":true,
     "hide_output_from_viewers":true
    }
   }
  },
  {
   "cell_type":"code",
   "source":[
    "#premier observations des données\n",
    "df.info()"
   ],
   "execution_count":97,
   "outputs":[
    {
     "name":"stdout",
     "text":[
      "<class 'pandas.core.frame.DataFrame'>\n",
      "RangeIndex: 26999 entries, 0 to 26998\n",
      "Data columns (total 10 columns):\n",
      " #   Column      Non-Null Count  Dtype  \n",
      "---  ------      --------------  -----  \n",
      " 0   timestamp   26999 non-null  object \n",
      " 1   P-PDG       26999 non-null  float64\n",
      " 2   P-TPT       26999 non-null  float64\n",
      " 3   T-TPT       26999 non-null  float64\n",
      " 4   P-MON-CKP   26999 non-null  float64\n",
      " 5   T-JUS-CKP   26999 non-null  float64\n",
      " 6   P-JUS-CKGL  0 non-null      float64\n",
      " 7   T-JUS-CKGL  0 non-null      float64\n",
      " 8   QGL         0 non-null      float64\n",
      " 9   class       26999 non-null  int64  \n",
      "dtypes: float64(8), int64(1), object(1)\n",
      "memory usage: 2.1+ MB\n"
     ],
     "output_type":"stream"
    }
   ],
   "metadata":{
    "datalore":{
     "node_id":"t5Y5WegJsuaxXY1vqjKYVJ",
     "type":"CODE",
     "hide_input_from_viewers":true,
     "hide_output_from_viewers":true
    }
   }
  },
  {
   "cell_type":"code",
   "source":[
    "df.head()"
   ],
   "execution_count":98,
   "outputs":[
    {
     "data":{
      "text\/html":[
       "<div>\n",
       "<style scoped>\n",
       "    .dataframe tbody tr th:only-of-type {\n",
       "        vertical-align: middle;\n",
       "    }\n",
       "\n",
       "    .dataframe tbody tr th {\n",
       "        vertical-align: top;\n",
       "    }\n",
       "\n",
       "    .dataframe thead th {\n",
       "        text-align: right;\n",
       "    }\n",
       "<\/style>\n",
       "<table border=\"1\" class=\"dataframe\">\n",
       "  <thead>\n",
       "    <tr style=\"text-align: right;\">\n",
       "      <th><\/th>\n",
       "      <th>timestamp<\/th>\n",
       "      <th>P-PDG<\/th>\n",
       "      <th>P-TPT<\/th>\n",
       "      <th>T-TPT<\/th>\n",
       "      <th>P-MON-CKP<\/th>\n",
       "      <th>T-JUS-CKP<\/th>\n",
       "      <th>P-JUS-CKGL<\/th>\n",
       "      <th>T-JUS-CKGL<\/th>\n",
       "      <th>QGL<\/th>\n",
       "      <th>class<\/th>\n",
       "    <\/tr>\n",
       "  <\/thead>\n",
       "  <tbody>\n",
       "    <tr>\n",
       "      <th>0<\/th>\n",
       "      <td>2018-05-17 22:56:06.000000<\/td>\n",
       "      <td>27897490.0<\/td>\n",
       "      <td>19824230.0<\/td>\n",
       "      <td>125.6859<\/td>\n",
       "      <td>4059666.0<\/td>\n",
       "      <td>97.55283<\/td>\n",
       "      <td>NaN<\/td>\n",
       "      <td>NaN<\/td>\n",
       "      <td>NaN<\/td>\n",
       "      <td>0<\/td>\n",
       "    <\/tr>\n",
       "    <tr>\n",
       "      <th>1<\/th>\n",
       "      <td>2018-05-17 22:56:07.000000<\/td>\n",
       "      <td>27897450.0<\/td>\n",
       "      <td>19824230.0<\/td>\n",
       "      <td>125.6859<\/td>\n",
       "      <td>4059666.0<\/td>\n",
       "      <td>97.55283<\/td>\n",
       "      <td>NaN<\/td>\n",
       "      <td>NaN<\/td>\n",
       "      <td>NaN<\/td>\n",
       "      <td>0<\/td>\n",
       "    <\/tr>\n",
       "    <tr>\n",
       "      <th>2<\/th>\n",
       "      <td>2018-05-17 22:56:08.000000<\/td>\n",
       "      <td>27897360.0<\/td>\n",
       "      <td>19824230.0<\/td>\n",
       "      <td>125.6859<\/td>\n",
       "      <td>4059666.0<\/td>\n",
       "      <td>97.55283<\/td>\n",
       "      <td>NaN<\/td>\n",
       "      <td>NaN<\/td>\n",
       "      <td>NaN<\/td>\n",
       "      <td>0<\/td>\n",
       "    <\/tr>\n",
       "    <tr>\n",
       "      <th>3<\/th>\n",
       "      <td>2018-05-17 22:56:09.000000<\/td>\n",
       "      <td>27897430.0<\/td>\n",
       "      <td>19824230.0<\/td>\n",
       "      <td>125.6859<\/td>\n",
       "      <td>4059666.0<\/td>\n",
       "      <td>97.55282<\/td>\n",
       "      <td>NaN<\/td>\n",
       "      <td>NaN<\/td>\n",
       "      <td>NaN<\/td>\n",
       "      <td>0<\/td>\n",
       "    <\/tr>\n",
       "    <tr>\n",
       "      <th>4<\/th>\n",
       "      <td>2018-05-17 22:56:10.000000<\/td>\n",
       "      <td>27897500.0<\/td>\n",
       "      <td>19824230.0<\/td>\n",
       "      <td>125.6859<\/td>\n",
       "      <td>4059666.0<\/td>\n",
       "      <td>97.55282<\/td>\n",
       "      <td>NaN<\/td>\n",
       "      <td>NaN<\/td>\n",
       "      <td>NaN<\/td>\n",
       "      <td>0<\/td>\n",
       "    <\/tr>\n",
       "  <\/tbody>\n",
       "<\/table>\n",
       "<\/div>"
      ]
     },
     "metadata":{
      
     },
     "output_type":"display_data"
    }
   ],
   "metadata":{
    "datalore":{
     "node_id":"SU6oexFusc59bMjVMSbZMz",
     "type":"CODE",
     "hide_input_from_viewers":true,
     "hide_output_from_viewers":true
    }
   }
  },
  {
   "cell_type":"markdown",
   "source":[
    "On remarque que 3 colonnes sont vides, on les supprime donc. On enlève également le timestemp car les données sont déjà dans le bon ordre chronologique, l'information du temps est donc conservée."
   ],
   "attachments":{
    
   },
   "metadata":{
    "datalore":{
     "node_id":"tlhEn8Cj4QrqQC8vIIJinB",
     "type":"MD",
     "hide_input_from_viewers":true,
     "hide_output_from_viewers":true
    }
   }
  },
  {
   "cell_type":"code",
   "source":[
    "df.pop('P-JUS-CKGL')\n",
    "df.pop('T-JUS-CKGL')\n",
    "df.pop('QGL')\n",
    "df.pop('timestamp')"
   ],
   "execution_count":99,
   "outputs":[
    {
     "data":{
      "text\/html":[
       
      ]
     },
     "metadata":{
      
     },
     "output_type":"display_data"
    }
   ],
   "metadata":{
    "datalore":{
     "node_id":"CzxbDx7R3ImYhuY6Iqw236",
     "type":"CODE",
     "hide_input_from_viewers":true,
     "hide_output_from_viewers":true
    }
   }
  },
  {
   "cell_type":"code",
   "source":[
    "#on change la représentation numérique des classes 108 et 8 pour avoir un one-hot de \n",
    "#3 classes et non pas 108.\n",
    "df.loc[df['class'] == 108, 'class'] = 1\n",
    "df.loc[df['class'] == 8, 'class'] = 2"
   ],
   "execution_count":100,
   "outputs":[
    
   ],
   "metadata":{
    "datalore":{
     "node_id":"dDXnipQE3fHkbQKfrYNL76",
     "type":"CODE",
     "hide_input_from_viewers":true,
     "hide_output_from_viewers":true
    }
   }
  },
  {
   "cell_type":"code",
   "source":[
    "#on met les 'class' dans Y en utilisant un encodage one-hot \n",
    "#et on enleve les class de notre série temporelle\n",
    "Y = tensorflow.keras.utils.to_categorical(df['class'],3)\n",
    "Y = pd.DataFrame(Y)\n",
    "df.pop('class')"
   ],
   "execution_count":101,
   "outputs":[
    {
     "data":{
      "text\/html":[
       
      ]
     },
     "metadata":{
      
     },
     "output_type":"display_data"
    }
   ],
   "metadata":{
    "datalore":{
     "node_id":"sb2dykSXTDLgfRCQJ2XKqv",
     "type":"CODE",
     "hide_input_from_viewers":true,
     "hide_output_from_viewers":true
    }
   }
  },
  {
   "cell_type":"markdown",
   "source":[
    "## Séquençage des données \n",
    "Dans cette section je programme une fonction qui va servir à tranformer nos données en séquences de taille fixe. Après plusieurs essais je trouve que la longueur de séquence idéale se trouve certainement dans l'intervalle 20,45 qui est un intervalle assez large. Pour des séquences de taille dans cet intervalle on trouve de bons résultats qui sont assez similaires. Personnellement, j'ai fait le choix de travailler avec des séquences de taille **30**."
   ],
   "attachments":{
    
   },
   "metadata":{
    "datalore":{
     "node_id":"akcIqby8v6lXt2qkgqatMt",
     "type":"MD",
     "hide_input_from_viewers":true,
     "hide_output_from_viewers":true
    }
   }
  },
  {
   "cell_type":"code",
   "source":[
    "#transformé les données en séquences \n",
    "def create_sequences(input_data: pd.DataFrame, target_column: pd.DataFrame, seq_len) :\n",
    "    sequences = []\n",
    "    labels = []\n",
    "\n",
    "    data_size = len(input_data)\n",
    "    #+1 car on veux toutes les séquences possible, on utilise tqdm pour visualiser l'avancée de la boucle.\n",
    "    for i in tqdm(range(data_size - seq_len + 1)) :\n",
    "        sequence = input_data[i:i+seq_len]\n",
    "        label_sequence = target_column[i:i+seq_len]\n",
    "        label = 0\n",
    "        #calcul du label correspondant -> on prend le max car on doit faire un choix de label parmis tous les labels de la séquence\n",
    "        #ici on choisit ça car on s'intéresse à la détection d'anomalie, étant donnée qu'on veut les détecter le plus rapidement \n",
    "        #possible, on associe le label maximal car apres modifications des labels de class, ils valent 0,1 et 2. Leurs \"urgence\"\n",
    "        # est décroissante càd urgence(0) < urgence(1) < urgence(2)\n",
    "        if(label_sequence.max()[2] == 1) :\n",
    "            label = 2\n",
    "        elif(label_sequence.max()[1] == 1) :\n",
    "            label = 1\n",
    "        \n",
    "        sequences.append(sequence)\n",
    "        labels.append(label)\n",
    "\n",
    "    return sequences,labels"
   ],
   "execution_count":102,
   "outputs":[
    
   ],
   "metadata":{
    "datalore":{
     "node_id":"WmUP8YSKqvHB27vLKGpxAy",
     "type":"CODE",
     "hide_input_from_viewers":true,
     "hide_output_from_viewers":true
    }
   }
  },
  {
   "cell_type":"code",
   "source":[
    "sequence_length = 30\n",
    "x_seq, y_seq = create_sequences(df,Y,sequence_length)"
   ],
   "execution_count":103,
   "outputs":[
    {
     "data":{
      "application\/vnd.jupyter.widget-view+json":{
       "version_major":2,
       "version_minor":0,
       "model_id":"8a582d357493472481ed22edf1dd2c6e"
      }
     },
     "metadata":{
      "application\/vnd.jupyter.widget-view+json":{
       "datalore":{
        "widget_id":"OSAtStDFB1MLWCLmNqrBwy"
       }
      }
     },
     "output_type":"display_data"
    }
   ],
   "metadata":{
    "datalore":{
     "node_id":"XdqWlwIiJhaxwQZRYzQXTz",
     "type":"CODE",
     "hide_input_from_viewers":true,
     "hide_output_from_viewers":true
    }
   }
  },
  {
   "cell_type":"markdown",
   "source":[
    "On transforme les séquences en array numpy pour pouvoir s'assurer qu'elles soient de la bonne forme, c'est à dire : ( nombre de séquences $\\times $ longueur des séquences $\\times$ nombre de variables). De plus on doit re-effectuer un encodage one-hot de nos labels."
   ],
   "attachments":{
    
   },
   "metadata":{
    "datalore":{
     "node_id":"ASYVMrH4aUvWyUrehRJiqs",
     "type":"MD",
     "hide_input_from_viewers":true,
     "hide_output_from_viewers":true
    }
   }
  },
  {
   "cell_type":"code",
   "source":[
    "x_seq = np.array(x_seq)\n",
    "y_seq = tensorflow.keras.utils.to_categorical(y_seq,3)\n",
    "print(x_seq.shape)\n",
    "print(y_seq.shape)"
   ],
   "execution_count":104,
   "outputs":[
    {
     "name":"stdout",
     "text":[
      "(26970, 30, 5)\n",
      "(26970, 3)\n"
     ],
     "output_type":"stream"
    }
   ],
   "metadata":{
    "datalore":{
     "node_id":"2VnvSOqH89dvzrNrauoKHD",
     "type":"CODE",
     "hide_input_from_viewers":true,
     "hide_output_from_viewers":true
    }
   }
  },
  {
   "cell_type":"markdown",
   "source":[
    "## Séparation des jeux de données\n",
    "Maintenant que nous disposons de nos séquences, avant d'aller plus loin dans les traitements de ces dernières, nous devons les séparer en jeu d'entrainement et jeu de test. Le jeu de test va nous permettre de voir si notre model généralise bien sur des données qui n'ont pas servi à l'entrainement, cela permet de se rendre contre du sur-apprentisage mais également de la capacité d'un modèle à bien généraliser ou non. \n",
    "\n",
    "Pour ce faire, on utilise la fonction `train_test_split()` proposée par la librairie *scikit-learn*."
   ],
   "attachments":{
    
   },
   "metadata":{
    "datalore":{
     "node_id":"7Pa2IrG4su6hWjvS0J7Etu",
     "type":"MD",
     "hide_input_from_viewers":true,
     "hide_output_from_viewers":true
    }
   }
  },
  {
   "cell_type":"code",
   "source":[
    "x_train, x_test, y_train, y_test = train_test_split(x_seq,y_seq)"
   ],
   "execution_count":105,
   "outputs":[
    
   ],
   "metadata":{
    "datalore":{
     "node_id":"OOBQwo4sGw7PiBDCsRNlJn",
     "type":"CODE",
     "hide_input_from_viewers":true,
     "hide_output_from_viewers":true
    }
   }
  },
  {
   "cell_type":"code",
   "source":[
    "x_train = np.array(x_train)\n",
    "x_test = np.array(x_test)\n",
    "y_train = np.array(y_train)\n",
    "y_test = np.array(y_test)"
   ],
   "execution_count":106,
   "outputs":[
    
   ],
   "metadata":{
    "datalore":{
     "node_id":"h9kALj1XbSrzXoKOnDSH23",
     "type":"CODE",
     "hide_input_from_viewers":true,
     "hide_output_from_viewers":true
    }
   }
  },
  {
   "cell_type":"markdown",
   "source":[
    "## Standardisation des données \n",
    "On standardise maintenant les données pour conserver l'inertie des données. De plus cela va permettre de lutter contre la disparition et l'explosion du gradient. Enfin, cela va empêcher au modèle de donner potentiellement trop d'importance aux variables prenant de grandes valeurs (Les échelles de valeurs selon les attributs étant très variées).\n",
    "\n",
    "On effectue cette oppération uniquement après avoir séparé le jeu de données en 2 jeux car la standardisation est initialisée avec `.fit()` cela va permettre de calculer la moyenne et l'écart type du jeu de données que l'on passe en paramètre. On veut donc uniquement appliquer ce fit aux données d'entrainements, en revanche par la suite nous pourront utiliser notre standardisation avec la fonction `.transform()` pour appliquer cette dernière sur les données de test avec la moyenne et l'écart-type qui aura été calculé sur le jeu d'entrainement."
   ],
   "attachments":{
    
   },
   "metadata":{
    "datalore":{
     "node_id":"gXe5DprIa83AYg6O3ChyxH",
     "type":"MD",
     "hide_input_from_viewers":true,
     "hide_output_from_viewers":true
    }
   }
  },
  {
   "cell_type":"code",
   "source":[
    "#\"initialisation\" et application de la standardisation avec les données d'entrainement\n",
    "#le scaler n'accepte que les données 2D, il faut donc changer la dimension des données puis revenir cette dimension \n",
    "scaler = StandardScaler()\n",
    "shape_dim1, shape_dim2, shape_dim3 = x_train.shape\n",
    "x_train = np.reshape(x_train, newshape=(-1, shape_dim3))\n",
    "x_train = scaler.fit_transform(x_train)\n",
    "x_train = np.reshape(x_train, newshape=(shape_dim1, shape_dim2, shape_dim3))"
   ],
   "execution_count":107,
   "outputs":[
    
   ],
   "metadata":{
    "datalore":{
     "node_id":"1OkHVCX9yeBFTbjRyhI5iW",
     "type":"CODE",
     "hide_input_from_viewers":true,
     "hide_output_from_viewers":true
    }
   }
  },
  {
   "cell_type":"code",
   "source":[
    "# On applique maintenant la standardisation des données aux données de test :\n",
    "shape_dim1, shape_dim2, shape_dim3 = x_test.shape\n",
    "x_test = np.reshape(x_test, newshape=(-1, shape_dim3))\n",
    "x_test = scaler.transform(x_test)\n",
    "x_test = np.reshape(x_test, newshape=(shape_dim1, shape_dim2, shape_dim3))"
   ],
   "execution_count":108,
   "outputs":[
    
   ],
   "metadata":{
    "datalore":{
     "node_id":"dOOoqS1wa6dwlPkABwo7PS",
     "type":"CODE",
     "hide_input_from_viewers":true,
     "hide_output_from_viewers":true
    }
   }
  },
  {
   "cell_type":"markdown",
   "source":[
    "## Définition du modèle\n",
    "\n",
    "Pour ce qui est du CNN j'ai choisi de m'inspirer de l'architecture FCN (fully convolutionnal network) de cet [article](https:\/\/arxiv.org\/pdf\/1611.06455.pdf) sur les réseaux profonds pour la classification de séries temporelles. Néanmoins j'ai trouvé cette architecture trop \"profonde\" pour notre problème bien qu'elle n'ai que 3 couches. J'ai donc dans un premier temps implémenté le réseaux tel quel en retirant simplement la dernière couche. On obtient donc un modèle de la forme : conv1D > BatchNorm > ReLU fois 2, puis cette sortie passait dans une couche \"GlobalAveragePooling\" pour finir dans un classifier à 3 sorties comme nous disposons de 3 classes (avec comme fonction non-linéaire la fonction softmax).\n",
    "\n",
    "On remarque que cette architecture ne réduit pas beaucoup la dimension de l'entrée lors des couches de convolution car elle n'utilise pas de pooling, à la place on utilise une batch normalization. Cette batch normalization permet ([d'après cet article](https:\/\/arxiv.org\/abs\/1502.03167)) d'accélérer l'entrainement. En effet, elle vise à re-centrer et réduire les sorties des couches de convolutions, de fait la distribution des entrées ne changent pas d'une couche à une autre. Cela va nous permettre d'utiliser des pas d'apprentissage plus grands, ce qui va conduire à un entrainement plus rapide. De plus, certains chercheurs affirment que cette normalisation permet de lisser la fonction d'apprentissage, ce qui permettrait en théorie d'obtenir moins de minimums locaux dans lesquels on resterai bloqué car trop profond.\n",
    "\n",
    "[Ici](https:\/\/link.springer.com\/article\/10.1007\/s10618-016-0483-9) les auteurs nous font également part de l'amélioration obtenue en utilisant la batch normalization pour des problèmes de classification. Néanmoins aujourd'hui de nouveaux réseaux de neurones appelé [Normalizer Free Nets](https:\/\/arxiv.org\/pdf\/2102.06171v1.pdf) ou \"NF-Nets\" sont parfois préferés à la batch normalization. L'implémentation n'étant pas disponnible en Keras, je me suis restreint à la batch normalization. \n",
    "\n",
    "Voici la définition de ce premier modèle :"
   ],
   "attachments":{
    
   },
   "metadata":{
    "datalore":{
     "node_id":"hWEcYCtkH1vXFZ2NDtNiVU",
     "type":"MD",
     "hide_input_from_viewers":true,
     "hide_output_from_viewers":true
    }
   }
  },
  {
   "cell_type":"code",
   "source":[
    "def create_first_version(input_shape,num_classes):\n",
    "    input_layer = keras.layers.Input(input_shape)\n",
    "\n",
    "    conv1 = keras.layers.Conv1D(filters=32, kernel_size=3, padding=\"same\")(input_layer)\n",
    "    conv1 = keras.layers.BatchNormalization()(conv1)\n",
    "    conv1 = keras.layers.ReLU()(conv1)\n",
    "\n",
    "    conv2 = keras.layers.Conv1D(filters=32, kernel_size=3, padding=\"same\")(conv1)\n",
    "    conv2 = keras.layers.BatchNormalization()(conv2)\n",
    "    conv2 = keras.layers.ReLU()(conv2)\n",
    "\n",
    "    pool = keras.layers.GlobalAveragePooling1D()(conv2)\n",
    "\n",
    "    classifier = keras.layers.Dense(num_classes, activation=\"softmax\")(pool)\n",
    "\n",
    "    return keras.models.Model(inputs=input_layer, outputs=classifier)\n",
    "\n",
    "first_model = create_first_version(x_train.shape[1:],y_train.shape[1])\n",
    "first_model.summary()"
   ],
   "execution_count":109,
   "outputs":[
    {
     "name":"stdout",
     "text":[
      "Model: \"model_8\"\n",
      "_________________________________________________________________\n",
      " Layer (type)                Output Shape              Param #   \n",
      "=================================================================\n",
      " input_9 (InputLayer)        [(None, 30, 5)]           0         \n",
      "                                                                 \n",
      " conv1d_16 (Conv1D)          (None, 30, 32)            512       \n",
      "                                                                 \n",
      " batch_normalization_16 (Bat  (None, 30, 32)           128       \n",
      " chNormalization)                                                \n",
      "                                                                 \n",
      " re_lu_16 (ReLU)             (None, 30, 32)            0         \n",
      "                                                                 \n",
      " conv1d_17 (Conv1D)          (None, 30, 32)            3104      \n",
      "                                                                 \n",
      " batch_normalization_17 (Bat  (None, 30, 32)           128       \n",
      " chNormalization)                                                \n",
      "                                                                 \n",
      " re_lu_17 (ReLU)             (None, 30, 32)            0         \n",
      "                                                                 \n",
      " global_average_pooling1d_8   (None, 32)               0         \n",
      " (GlobalAveragePooling1D)                                        \n",
      "                                                                 \n",
      " dense_8 (Dense)             (None, 3)                 99        \n",
      "                                                                 \n",
      "=================================================================\n",
      "Total params: 3,971\n",
      "Trainable params: 3,843\n",
      "Non-trainable params: 128\n",
      "_________________________________________________________________\n"
     ],
     "output_type":"stream"
    }
   ],
   "metadata":{
    "datalore":{
     "node_id":"2iwSCFfDcHAT0l5i24MKFp",
     "type":"CODE",
     "hide_input_from_viewers":true,
     "hide_output_from_viewers":true
    }
   }
  },
  {
   "cell_type":"markdown",
   "source":[
    "On obtient un nombre total de paramètres de ± 3900 ce qui est un nombre assez peu élevé. Cela s'explique par le fait que j'utilise seulement 32 filtres, contrairement au modèle initial qui en utilise 64. Encore, une fois j'ai diminué ce nombre car 64 me semblait trop élevé pour ce problème. (En revanche, le nombre de filtre augmentera dans le second modèle)\n",
    "\n",
    "### Essayons un entrainement avec ce modèle\n",
    "\n",
    "Pour l'entrainement j'ai fait le choix d'ajouter plusieurs [\"callbacks\"](https:\/\/keras.io\/api\/callbacks\/). Parmi tous les callbacks disponibles, je voulais initialement uniquement utiliser l'early stopping pour éviter le sur-apprentissage mais après avoir parcouru plusieurs exemples de modèles sur le site [Keras](https:\/\/keras.io), j'ai remarqué que beaucoup de modèle convolutionnels utilisaient le callback `ReduceLROnPlateau()`. Ce callback permet de réduire le learning rate lorsqu'une métrique (que l'on donne en paramètre) n'évolue plus, j'ai fait le choix d'ajouter ce callback car il me semblait pertinent étant donné que j'utilise la batch norm (donc potentiellement des learning rate plus élevé)."
   ],
   "attachments":{
    
   },
   "metadata":{
    "datalore":{
     "node_id":"sPPBem1ZNmlLh8IyP2hIsZ",
     "type":"MD",
     "hide_input_from_viewers":true,
     "hide_output_from_viewers":true
    }
   }
  },
  {
   "cell_type":"code",
   "source":[
    "#pour les paramètres j'ai choisit de stopper après 20 epochs lorsque le modele ne progresse plus sur le jeu de validation\n",
    "#car c'est à ce moment qu'on est potentiellement en train de sur-apprendre\n",
    "callbacks = [keras.callbacks.EarlyStopping(monitor=\"val_loss\", patience=20, verbose=1),\n",
    "             keras.callbacks.ReduceLROnPlateau(monitor=\"val_loss\", factor=0.5, patience=20, min_lr=0.0001),\n",
    "            keras.callbacks.ModelCheckpoint(\"ckpt.h5\", save_best_only=True, monitor=\"val_loss\")]"
   ],
   "execution_count":110,
   "outputs":[
    
   ],
   "metadata":{
    "datalore":{
     "node_id":"Hos8caEAYLtiGCSqBpjpiT",
     "type":"CODE",
     "hide_input_from_viewers":true,
     "hide_output_from_viewers":true
    }
   }
  },
  {
   "cell_type":"code",
   "source":[
    "\n",
    "#j'utilise la categorial crossentropy car c'est la fonction de perte qui m'a semblé la plus pertinente lorsque l'on a un encodage\n",
    "#one-hot et la metrique \"categorical_accuracy\" car c'est également celle qui m'a semblé être pertinente pour l'encodage one-hot\n",
    "first_model.compile(optimizer=\"adam\", loss=\"categorical_crossentropy\", metrics=[\"categorical_accuracy\"])"
   ],
   "execution_count":111,
   "outputs":[
    
   ],
   "metadata":{
    "datalore":{
     "node_id":"lPvKfrXvsNmcjxe2vnGbib",
     "type":"CODE",
     "hide_input_from_viewers":true,
     "hide_output_from_viewers":true
    }
   }
  },
  {
   "cell_type":"markdown",
   "source":[
    "### Entrainement du modèle"
   ],
   "attachments":{
    
   },
   "metadata":{
    "datalore":{
     "node_id":"y7VpJyzd8pokh0uYalMRqn",
     "type":"MD",
     "hide_input_from_viewers":true,
     "hide_output_from_viewers":true
    }
   }
  },
  {
   "cell_type":"code",
   "source":[
    "#pour ce qui est des epoch j'ai choisit 200 car le reseau s'arrete généralement aux alentours de 50~70 epochs voire moins selon \n",
    "#l'architecture utilisée, on laisse donc l'early stopping arrêter le modèle seule.\n",
    "#j'ai également choisi de prendre 20% du jeu d'entrainement pour la validation car c'est ce sur ce jeu que vont s'appliquer\n",
    "#les callbacks\n",
    "history = first_model.fit(x_train, y_train, batch_size=64, epochs=200, callbacks=callbacks, validation_split=0.2, verbose=0)"
   ],
   "execution_count":112,
   "outputs":[
    {
     "name":"stdout",
     "text":[
      "Epoch 00094: early stopping\n"
     ],
     "output_type":"stream"
    }
   ],
   "metadata":{
    "datalore":{
     "node_id":"nl6X6jORacaIUZifDfeuNj",
     "type":"CODE",
     "hide_input_from_viewers":true,
     "hide_output_from_viewers":true
    }
   }
  },
  {
   "cell_type":"markdown",
   "source":[
    "L'entrainement dure environ 1min avec cette architecture. Voyons les résultats sur le jeu de test avant de passer à la présentation de l'architecture que j'ai utilisé finalement."
   ],
   "attachments":{
    
   },
   "metadata":{
    "datalore":{
     "node_id":"V0N6VxkoVzXd2wzSAfFZsj",
     "type":"MD",
     "hide_input_from_viewers":true,
     "hide_output_from_viewers":true
    }
   }
  },
  {
   "cell_type":"code",
   "source":[
    "first_model = keras.models.load_model(\"ckpt.h5\")\n",
    "first_model.evaluate(x_test,y_test)"
   ],
   "execution_count":113,
   "outputs":[
    {
     "name":"stdout",
     "text":[
      "\r  1\/211 [..............................] - ETA: 36s - loss: 0.0627 - categorical_accuracy: 0.9375\b\b\b\b\b\b\b\b\b\b\b\b\b\b\b\b\b\b\b\b\b\b\b\b\b\b\b\b\b\b\b\b\b\b\b\b\b\b\b\b\b\b\b\b\b\b\b\b\b\b\b\b\b\b\b\b\b\b\b\b\b\b\b\b\b\b\b\b\b\b\b\b\b\b\b\b\b\b\b\b\b\b\b\b\b\b\b\b\b\b\b\b\b\b\b\b\b\r 31\/211 [===>..........................] - ETA: 0s - loss: 0.0668 - categorical_accuracy: 0.9677 \b\b\b\b\b\b\b\b\b\b\b\b\b\b\b\b\b\b\b\b\b\b\b\b\b\b\b\b\b\b\b\b\b\b\b\b\b\b\b\b\b\b\b\b\b\b\b\b\b\b\b\b\b\b\b\b\b\b\b\b\b\b\b\b\b\b\b\b\b\b\b\b\b\b\b\b\b\b\b\b\b\b\b\b\b\b\b\b\b\b\b\b\b\b\b\b\r 62\/211 [=======>......................] - ETA: 0s - loss: 0.0666 - categorical_accuracy: 0.9698\b\b\b\b\b\b\b\b\b\b\b\b\b\b\b\b\b\b\b\b\b\b\b\b\b\b\b\b\b\b\b\b\b\b\b\b\b\b\b\b\b\b\b\b\b\b\b\b\b\b\b\b\b\b\b\b\b\b\b\b\b\b\b\b\b\b\b\b\b\b\b\b\b\b\b\b\b\b\b\b\b\b\b\b\b\b\b\b\b\b\b\b\b\b\b\b\r 93\/211 [============>.................] - ETA: 0s - loss: 0.0660 - categorical_accuracy: 0.9688\b\b\b\b\b\b\b\b\b\b\b\b\b\b\b\b\b\b\b\b\b\b\b\b\b\b\b\b\b\b\b\b\b\b\b\b\b\b\b\b\b\b\b\b\b\b\b\b\b\b\b\b\b\b\b\b\b\b\b\b\b\b\b\b\b\b\b\b\b\b\b\b\b\b\b\b\b\b\b\b\b\b\b\b\b\b\b\b\b\b\b\b\b\b\b\b\r124\/211 [================>.............] - ETA: 0s - loss: 0.0643 - categorical_accuracy: 0.9708\b\b\b\b\b\b\b\b\b\b\b\b\b\b\b\b\b\b\b\b\b\b\b\b\b\b\b\b\b\b\b\b\b\b\b\b\b\b\b\b\b\b\b\b\b\b\b\b\b\b\b\b\b\b\b\b\b\b\b\b\b\b\b\b\b\b\b\b\b\b\b\b\b\b\b\b\b\b\b\b\b\b\b\b\b\b\b\b\b\b\b\b\b\b\b\b\r155\/211 [=====================>........] - ETA: 0s - loss: 0.0653 - categorical_accuracy: 0.9712\b\b\b\b\b\b\b\b\b\b\b\b\b\b\b\b\b\b\b\b\b\b\b\b\b\b\b\b\b\b\b\b\b\b\b\b\b\b\b\b\b\b\b\b\b\b\b\b\b\b\b\b\b\b\b\b\b\b\b\b\b\b\b\b\b\b\b\b\b\b\b\b\b\b\b\b\b\b\b\b\b\b\b\b\b\b\b\b\b\b\b\b\b\b\b\b\r186\/211 [=========================>....] - ETA: 0s - loss: 0.0645 - categorical_accuracy: 0.9716\b\b\b\b\b\b\b\b\b\b\b\b\b\b\b\b\b\b\b\b\b\b\b\b\b\b\b\b\b\b\b\b\b\b\b\b\b\b\b\b\b\b\b\b\b\b\b\b\b\b\b\b\b\b\b\b\b\b\b\b\b\b\b\b\b\b\b\b\b\b\b\b\b\b\b\b\b\b\b\b\b\b\b\b\b\b\b\b\b\b\b\b\b\b\b\b\r211\/211 [==============================] - 1s 2ms\/step - loss: 0.0658 - categorical_accuracy: 0.9709\n"
     ],
     "output_type":"stream"
    },
    {
     "data":{
      "text\/plain":[
       "[0.06584995239973068, 0.9709328413009644]"
      ]
     },
     "metadata":{
      
     },
     "output_type":"display_data"
    }
   ],
   "metadata":{
    "datalore":{
     "node_id":"t2quvmgxjkU1C3VVw0HNPg",
     "type":"CODE",
     "hide_input_from_viewers":true,
     "hide_output_from_viewers":true
    }
   }
  },
  {
   "cell_type":"markdown",
   "source":[
    "On obtient une categorical accuracy entre 96 et 99% selon les runs qui est une très bonne accuracy pour le temps d'entrainements et le nombre de paramètres. J'ai néanmoins éssayer d'améliorer le modèle en essayant de le rendre encore plus rapide car la perte d'un ou deux pourcent de précision n'entrainerait pas de baisse significative des performances. Pour alléger le modèle j'ai d'abord essayé d'enlever une puis les deux batch norm pour voir les resultats obtenus. Les résultats à l'entrainements étaient bons mais je trouvais que le reseau généralisait moins bien pour un entrainement plus long, tout cela malgré l'early stopping. On parle d'une perte de 5% à 6% de précision sur les données de tests. J'ai donc par la suite décidé de garder ces batch norm mais de rajouter une couche de pooling apres la première convolution. Après avoir essayé les différentes couches de pooling 1D (max,avg, global max et global avg) j'ai décidé de garder l'average pooling qui donnait de meilleurs résultats sur les données d'entrainements et les données de tests.\n",
    "\n",
    "Par la suite j'ai essayé d'ajouter une couche de pooling en fin de deuxieme convolution mais cette couche ne changeait pas significativement les résultats, ils étaient presque similaires à ceux obtenus avec une seule couche de pooling.\n",
    "\n",
    "Le modèle final est donc très similaire au premier à la seule différence que l'on a rajouté une couche de pooling et 16 filtres :   "
   ],
   "attachments":{
    
   },
   "metadata":{
    "datalore":{
     "node_id":"DwJMrBqN6uwQabJLX6osBJ",
     "type":"MD",
     "hide_input_from_viewers":true,
     "hide_output_from_viewers":true
    }
   }
  },
  {
   "cell_type":"code",
   "source":[
    "def create_second_version(input_shape,num_classes):\n",
    "    input_layer = keras.layers.Input(input_shape)\n",
    "\n",
    "    conv1 = keras.layers.Conv1D(filters=48, kernel_size=3, padding=\"same\")(input_layer)\n",
    "    conv1 = keras.layers.BatchNormalization()(conv1)\n",
    "    conv1 = keras.layers.AvgPool1D(pool_size=2,strides=1,padding=\"same\")(conv1)\n",
    "    conv1 = keras.layers.ReLU()(conv1)\n",
    "\n",
    "    conv2 = keras.layers.Conv1D(filters=48, kernel_size=3, padding=\"same\")(conv1)\n",
    "    conv2 = keras.layers.BatchNormalization()(conv2)\n",
    "    conv2 = keras.layers.ReLU()(conv2)\n",
    "\n",
    "    pool = keras.layers.GlobalAveragePooling1D()(conv2)\n",
    "\n",
    "    classifier = keras.layers.Dense(num_classes, activation=\"softmax\")(pool)\n",
    "\n",
    "    return keras.models.Model(inputs=input_layer, outputs=classifier)\n",
    "\n",
    "second_model = create_second_version(input_shape=x_train.shape[1:],num_classes=y_train.shape[1])\n",
    "second_model.summary()"
   ],
   "execution_count":114,
   "outputs":[
    {
     "name":"stdout",
     "text":[
      "Model: \"model_9\"\n",
      "_________________________________________________________________\n",
      " Layer (type)                Output Shape              Param #   \n",
      "=================================================================\n",
      " input_10 (InputLayer)       [(None, 30, 5)]           0         \n",
      "                                                                 \n",
      " conv1d_18 (Conv1D)          (None, 30, 48)            768       \n",
      "                                                                 \n",
      " batch_normalization_18 (Bat  (None, 30, 48)           192       \n",
      " chNormalization)                                                \n",
      "                                                                 \n",
      " average_pooling1d_6 (Averag  (None, 30, 48)           0         \n",
      " ePooling1D)                                                     \n",
      "                                                                 \n",
      " re_lu_18 (ReLU)             (None, 30, 48)            0         \n",
      "                                                                 \n",
      " conv1d_19 (Conv1D)          (None, 30, 48)            6960      \n",
      "                                                                 \n",
      " batch_normalization_19 (Bat  (None, 30, 48)           192       \n",
      " chNormalization)                                                \n",
      "                                                                 \n",
      " re_lu_19 (ReLU)             (None, 30, 48)            0         \n",
      "                                                                 \n",
      " global_average_pooling1d_9   (None, 48)               0         \n",
      " (GlobalAveragePooling1D)                                        \n",
      "                                                                 \n",
      " dense_9 (Dense)             (None, 3)                 147       \n",
      "                                                                 \n",
      "=================================================================\n",
      "Total params: 8,259\n",
      "Trainable params: 8,067\n",
      "Non-trainable params: 192\n",
      "_________________________________________________________________\n"
     ],
     "output_type":"stream"
    }
   ],
   "metadata":{
    "datalore":{
     "node_id":"L8dnOkFHRWOsPUquqr4HU6",
     "type":"CODE",
     "hide_input_from_viewers":true,
     "hide_output_from_viewers":true
    }
   }
  },
  {
   "cell_type":"markdown",
   "source":[
    "### Entrainement avec le second modèle\n",
    "Pour l'entrainement on garde les mêmes hyper-paramètres. Le choix des hyper-paramètres sera détaillé dans la prochaine section"
   ],
   "attachments":{
    
   },
   "metadata":{
    "datalore":{
     "node_id":"HI5WhNvfhoXZGLYHOMRvRQ",
     "type":"MD",
     "hide_input_from_viewers":true,
     "hide_output_from_viewers":true
    }
   }
  },
  {
   "cell_type":"code",
   "source":[
    "callbacks = [keras.callbacks.EarlyStopping(monitor=\"val_loss\", patience=20, verbose=1),\n",
    "             keras.callbacks.ReduceLROnPlateau(monitor=\"val_loss\", factor=0.5, patience=20, min_lr=0.0001),\n",
    "            keras.callbacks.ModelCheckpoint(\"ckpt2.h5\", save_best_only=True, monitor=\"val_loss\")]"
   ],
   "execution_count":115,
   "outputs":[
    
   ],
   "metadata":{
    "datalore":{
     "node_id":"VDZgTp53cQuuLcChTat92D",
     "type":"CODE",
     "hide_input_from_viewers":true,
     "hide_output_from_viewers":true
    }
   }
  },
  {
   "cell_type":"code",
   "source":[
    "second_model.compile(optimizer=\"adam\", loss=\"categorical_crossentropy\", metrics=[\"categorical_accuracy\"])"
   ],
   "execution_count":119,
   "outputs":[
    
   ],
   "metadata":{
    "datalore":{
     "node_id":"dsPSPlO5DP485I5JwRqmaY",
     "type":"CODE",
     "hide_input_from_viewers":true,
     "hide_output_from_viewers":true
    }
   }
  },
  {
   "cell_type":"code",
   "source":[
    "history2 = second_model.fit(x_train, y_train, batch_size=64, epochs=200, callbacks=callbacks, validation_split=0.2, verbose=0)"
   ],
   "execution_count":120,
   "outputs":[
    {
     "name":"stdout",
     "text":[
      "Epoch 00058: early stopping\n"
     ],
     "output_type":"stream"
    }
   ],
   "metadata":{
    "datalore":{
     "node_id":"dhkKCuhNi3g3lH6Dpf7jqa",
     "type":"CODE",
     "hide_input_from_viewers":true,
     "hide_output_from_viewers":true
    }
   }
  },
  {
   "cell_type":"code",
   "source":[
    "second_model = keras.models.load_model(\"ckpt2.h5\")\n",
    "second_model.evaluate(x_test,y_test)"
   ],
   "execution_count":121,
   "outputs":[
    {
     "name":"stdout",
     "text":[
      "\r  1\/211 [..............................] - ETA: 39s - loss: 0.0681 - categorical_accuracy: 0.9375\b\b\b\b\b\b\b\b\b\b\b\b\b\b\b\b\b\b\b\b\b\b\b\b\b\b\b\b\b\b\b\b\b\b\b\b\b\b\b\b\b\b\b\b\b\b\b\b\b\b\b\b\b\b\b\b\b\b\b\b\b\b\b\b\b\b\b\b\b\b\b\b\b\b\b\b\b\b\b\b\b\b\b\b\b\b\b\b\b\b\b\b\b\b\b\b\b\r 28\/211 [==>...........................] - ETA: 0s - loss: 0.0645 - categorical_accuracy: 0.9721 \b\b\b\b\b\b\b\b\b\b\b\b\b\b\b\b\b\b\b\b\b\b\b\b\b\b\b\b\b\b\b\b\b\b\b\b\b\b\b\b\b\b\b\b\b\b\b\b\b\b\b\b\b\b\b\b\b\b\b\b\b\b\b\b\b\b\b\b\b\b\b\b\b\b\b\b\b\b\b\b\b\b\b\b\b\b\b\b\b\b\b\b\b\b\b\b\r 54\/211 [======>.......................] - ETA: 0s - loss: 0.0655 - categorical_accuracy: 0.9722\b\b\b\b\b\b\b\b\b\b\b\b\b\b\b\b\b\b\b\b\b\b\b\b\b\b\b\b\b\b\b\b\b\b\b\b\b\b\b\b\b\b\b\b\b\b\b\b\b\b\b\b\b\b\b\b\b\b\b\b\b\b\b\b\b\b\b\b\b\b\b\b\b\b\b\b\b\b\b\b\b\b\b\b\b\b\b\b\b\b\b\b\b\b\b\b\r 80\/211 [==========>...................] - ETA: 0s - loss: 0.0678 - categorical_accuracy: 0.9703\b\b\b\b\b\b\b\b\b\b\b\b\b\b\b\b\b\b\b\b\b\b\b\b\b\b\b\b\b\b\b\b\b\b\b\b\b\b\b\b\b\b\b\b\b\b\b\b\b\b\b\b\b\b\b\b\b\b\b\b\b\b\b\b\b\b\b\b\b\b\b\b\b\b\b\b\b\b\b\b\b\b\b\b\b\b\b\b\b\b\b\b\b\b\b\b\r105\/211 [=============>................] - ETA: 0s - loss: 0.0650 - categorical_accuracy: 0.9732\b\b\b\b\b\b\b\b\b\b\b\b\b\b\b\b\b\b\b\b\b\b\b\b\b\b\b\b\b\b\b\b\b\b\b\b\b\b\b\b\b\b\b\b\b\b\b\b\b\b\b\b\b\b\b\b\b\b\b\b\b\b\b\b\b\b\b\b\b\b\b\b\b\b\b\b\b\b\b\b\b\b\b\b\b\b\b\b\b\b\b\b\b\b\b\b\r132\/211 [=================>............] - ETA: 0s - loss: 0.0658 - categorical_accuracy: 0.9718\b\b\b\b\b\b\b\b\b\b\b\b\b\b\b\b\b\b\b\b\b\b\b\b\b\b\b\b\b\b\b\b\b\b\b\b\b\b\b\b\b\b\b\b\b\b\b\b\b\b\b\b\b\b\b\b\b\b\b\b\b\b\b\b\b\b\b\b\b\b\b\b\b\b\b\b\b\b\b\b\b\b\b\b\b\b\b\b\b\b\b\b\b\b\b\b\r157\/211 [=====================>........] - ETA: 0s - loss: 0.0661 - categorical_accuracy: 0.9717\b\b\b\b\b\b\b\b\b\b\b\b\b\b\b\b\b\b\b\b\b\b\b\b\b\b\b\b\b\b\b\b\b\b\b\b\b\b\b\b\b\b\b\b\b\b\b\b\b\b\b\b\b\b\b\b\b\b\b\b\b\b\b\b\b\b\b\b\b\b\b\b\b\b\b\b\b\b\b\b\b\b\b\b\b\b\b\b\b\b\b\b\b\b\b\b\r183\/211 [=========================>....] - ETA: 0s - loss: 0.0658 - categorical_accuracy: 0.9720\b\b\b\b\b\b\b\b\b\b\b\b\b\b\b\b\b\b\b\b\b\b\b\b\b\b\b\b\b\b\b\b\b\b\b\b\b\b\b\b\b\b\b\b\b\b\b\b\b\b\b\b\b\b\b\b\b\b\b\b\b\b\b\b\b\b\b\b\b\b\b\b\b\b\b\b\b\b\b\b\b\b\b\b\b\b\b\b\b\b\b\b\b\b\b\b\r208\/211 [============================>.] - ETA: 0s - loss: 0.0670 - categorical_accuracy: 0.9716\b\b\b\b\b\b\b\b\b\b\b\b\b\b\b\b\b\b\b\b\b\b\b\b\b\b\b\b\b\b\b\b\b\b\b\b\b\b\b\b\b\b\b\b\b\b\b\b\b\b\b\b\b\b\b\b\b\b\b\b\b\b\b\b\b\b\b\b\b\b\b\b\b\b\b\b\b\b\b\b\b\b\b\b\b\b\b\b\b\b\b\b\b\b\b\b\r211\/211 [==============================] - 1s 2ms\/step - loss: 0.0672 - categorical_accuracy: 0.9715\n"
     ],
     "output_type":"stream"
    },
    {
     "data":{
      "text\/plain":[
       "[0.06715212017297745, 0.971526026725769]"
      ]
     },
     "metadata":{
      
     },
     "output_type":"display_data"
    }
   ],
   "metadata":{
    "datalore":{
     "node_id":"3SLYt8TrwyCgJq5FFk7gok",
     "type":"CODE",
     "hide_input_from_viewers":true,
     "hide_output_from_viewers":true
    }
   }
  },
  {
   "cell_type":"markdown",
   "source":[
    "On obtient encore de très bons résultats (souvent meilleurs que le premier modèle) pour un entrainement qui est en général également plus court."
   ],
   "attachments":{
    
   },
   "metadata":{
    "datalore":{
     "node_id":"OkQ0547E232mZJB2wZ1g4C",
     "type":"MD",
     "hide_input_from_viewers":true,
     "hide_output_from_viewers":true
    }
   }
  },
  {
   "cell_type":"markdown",
   "source":[
    "### Choix des hyper-paramètres \n",
    "Pour les hyper-paramètres, j'ai surtout modifié sur les suivants :\n",
    "- le nombre de filtres\n",
    "- la taille du batch\n",
    "- la taille de la fenêtre de convolution\n",
    "\n",
    "#### Taille du batch\n",
    "Pour la taille du batch, j'ai essayé plusieurs valeurs entre 64 et 32. Pour un batch size de 32 l'entrainement est fatalement plus long cependant la précision n'est pas impactée, on peut donc penser que la réduction de la taille du batch n'est pas intéressante pour ce problème. On conserve donc une taille de batch de 64.\n",
    "\n",
    "#### Taille de la fenetre de convolution (kernel size)\n",
    "J'avais initialement mis la taille de la fenêtre de convolution à 5 me disant que c'était le nombre d'attribut d'un pas de temps cela me semblait donc cohérent mais je me suis rapidement rendu compte que le modèle généralisait très mal avec une si grande fenêtre de convolution. J'ai donc diminué la taille à 4 puis 3 puis 2 mais les meilleurs résultats que j'ai obtenus étaient avec une fenêtre de taille 3."
   ],
   "attachments":{
    
   },
   "metadata":{
    "datalore":{
     "node_id":"Ix9ZDOscW0HxhwBbLHYcv1",
     "type":"MD",
     "hide_input_from_viewers":true,
     "hide_output_from_viewers":true
    }
   }
  },
  {
   "cell_type":"markdown",
   "source":[
    "## Validation des 2 modèles et comparaisons des performances\n",
    "Pour valider les modèles, étant donné que nous disposons déja de l'accuracy, nous allons nous servir du F1-score qui est plus représentatif. En effet le F1-score est utile lorsque les classes sont réparties inéquitablement (ce qui est le cas ici pour la classe 0 qui est sous représentée). Le F1-score va nous permettre d'avoir une interprétation de l'accuracy et du recall.\n",
    "\n",
    "Nous allons de plus calculer la matrice de confusion pour voir où ont lieux les erreurs.\n",
    "\n",
    "Pour commencer, calculons les prédictions pour le jeu de test avec la fonction `predict()`"
   ],
   "attachments":{
    
   },
   "metadata":{
    "datalore":{
     "node_id":"O2AJZEK1KvmGogVFLvMTAu",
     "type":"MD",
     "hide_input_from_viewers":true,
     "hide_output_from_viewers":true
    }
   }
  },
  {
   "cell_type":"code",
   "source":[
    "prediction_model1 = first_model.predict(x_test)\n",
    "prediction_model2 = second_model.predict(x_test)"
   ],
   "execution_count":122,
   "outputs":[
    
   ],
   "metadata":{
    "datalore":{
     "node_id":"B175lTiavrzUV7wJUC0GiX",
     "type":"CODE",
     "hide_input_from_viewers":true,
     "hide_output_from_viewers":true
    }
   }
  },
  {
   "cell_type":"code",
   "source":[
    "f1score_model1 = f1_score(y_test.argmax(axis=1),prediction_model1.argmax(axis=1),average=None)\n",
    "f1score_model2 = f1_score(y_test.argmax(axis=1),prediction_model2.argmax(axis=1),average=None)"
   ],
   "execution_count":123,
   "outputs":[
    
   ],
   "metadata":{
    "datalore":{
     "node_id":"7meKzFhMuRuZjjfX2akKrz",
     "type":"CODE",
     "hide_input_from_viewers":true,
     "hide_output_from_viewers":true
    }
   }
  },
  {
   "cell_type":"code",
   "source":[
    "print(f1score_model1)\n",
    "print(f1score_model2)"
   ],
   "execution_count":124,
   "outputs":[
    {
     "name":"stdout",
     "text":[
      "[0.84385965 0.95559583 0.99773071]\n",
      "[0.84017467 0.95656109 0.99886378]\n"
     ],
     "output_type":"stream"
    }
   ],
   "metadata":{
    "datalore":{
     "node_id":"QfMtArGupMTUoAkJXuN81e",
     "type":"CODE",
     "hide_input_from_viewers":true,
     "hide_output_from_viewers":true
    }
   }
  },
  {
   "cell_type":"markdown",
   "source":[
    "On voit vraisemblablement que les deux modèles sont excellents sur les 2 dernières classes mais qu'ils ont plus de mal sur la première. Cela peut s'expliquer par le fait que, comme dit précedemment, la classe 0 est sous-représentée dans le jeu de données, le modèle manque donc peut être d'exemple pour cette classe.\n",
    "\n",
    "Malgré ça, les prédictions restent très bonnes, on voit qu'en moyenne pour une bonne prédiction le modèle fait très peu d'erreurs.  "
   ],
   "attachments":{
    
   },
   "metadata":{
    "datalore":{
     "node_id":"GZGaSRTfEkoWiYp682KYnx",
     "type":"MD",
     "hide_input_from_viewers":true,
     "hide_output_from_viewers":true
    }
   }
  },
  {
   "cell_type":"markdown",
   "source":[
    "### Matrice de confusion\n",
    "La matrice de confusion va nous permettre de voir ou le modèle commet des erreurs."
   ],
   "attachments":{
    
   },
   "metadata":{
    "datalore":{
     "node_id":"MbiF8AD0VP9jukmqwEk3Po",
     "type":"MD",
     "hide_input_from_viewers":true,
     "hide_output_from_viewers":true
    }
   }
  },
  {
   "cell_type":"code",
   "source":[
    "matrix1 = confusion_matrix(y_test.argmax(axis=1),prediction_model1.argmax(axis=1))\n",
    "matrix2 = confusion_matrix(y_test.argmax(axis=1),prediction_model2.argmax(axis=1))"
   ],
   "execution_count":125,
   "outputs":[
    
   ],
   "metadata":{
    "datalore":{
     "node_id":"rTlPQVLuUZtsDkvFYQpRM0",
     "type":"CODE",
     "hide_input_from_viewers":true,
     "hide_output_from_viewers":true
    }
   }
  },
  {
   "cell_type":"code",
   "source":[
    "f, axes = plt.subplots(1, 2, figsize=(20, 5), sharey='row')\n",
    "\n",
    "disp1 = ConfusionMatrixDisplay(matrix1)\n",
    "disp1.plot(ax=axes[0])\n",
    "disp1.ax_.set_title(\"Premier modèle\")\n",
    "disp1.im_.colorbar.remove()\n",
    "\n",
    "disp2 = ConfusionMatrixDisplay(matrix2)\n",
    "disp2.plot(ax=axes[1])\n",
    "disp2.ax_.set_title(\"Second modèle\")\n",
    "disp2.im_.colorbar.remove()\n",
    "\n",
    "plt.subplots_adjust()\n",
    "\n",
    "\n",
    "f.colorbar(disp2.im_, ax=axes)\n",
    "plt.show()"
   ],
   "execution_count":126,
   "outputs":[
    {
     "data":{
      "image\/png":"[encoded data removed]"
     },
     "metadata":{
      "image\/png":{
       
      }
     },
     "output_type":"display_data"
    }
   ],
   "metadata":{
    "datalore":{
     "node_id":"gDb5q1Kbyqq45nn5lJsXPH",
     "type":"CODE",
     "hide_input_from_viewers":true,
     "hide_output_from_viewers":true
    }
   }
  },
  {
   "cell_type":"markdown",
   "source":[
    "On remarque avec les matrices de confusion que le second modèle a de meilleures performances, notamment sur la prédiction de la première classe. Cette amélioration est certainement due aux 16 filtres supplémentaires dont dispose ce modèle ce qui accroit encore ses performances. Néanmoins, ces filtres supplémentaires augmentent relativement le nombre de paramètres (il est presque doublé pour le deuxième modèle mais ce nombre reste tout à fait raisonnable).\n",
    "\n",
    "On constate également que les erreurs ont lieux aux intersections entre 2 classes. Par exemple pour le second modèle, quand il prédit la classe 2, il fait uniquement des erreurs avec la classe 1 qui est la classe de transition survenant juste avant la classe 2 représentant le problème dans les tuyaux. On peut donc en déduire que l'aspect temporel est \"compris\" par le réseaux (tel évenement survient avant ou après tel autre). "
   ],
   "attachments":{
    
   },
   "metadata":{
    "datalore":{
     "node_id":"lLp1VMgAmWGRorGqOZADFW",
     "type":"MD",
     "hide_input_from_viewers":true,
     "hide_output_from_viewers":true
    }
   }
  }
 ],
 "metadata":{
  "widgets":{
   "application\/vnd.jupyter.widget-state+json":{
    "version_major":2,
    "version_minor":0,
    "state":{
     "8e9699b4b67145cba596d6cd2130376f":{
      "model_name":"LayoutModel",
      "model_module":"@jupyter-widgets\/base",
      "model_module_version":"1.2.0",
      "state":{
       "_model_module":"@jupyter-widgets\/base",
       "_model_module_version":"1.2.0",
       "_model_name":"LayoutModel",
       "_view_count":null,
       "_view_module":"@jupyter-widgets\/base",
       "_view_module_version":"1.2.0",
       "_view_name":"LayoutView",
       "align_content":null,
       "align_items":null,
       "align_self":null,
       "border":null,
       "bottom":null,
       "display":null,
       "flex":null,
       "flex_flow":null,
       "grid_area":null,
       "grid_auto_columns":null,
       "grid_auto_flow":null,
       "grid_auto_rows":null,
       "grid_column":null,
       "grid_gap":null,
       "grid_row":null,
       "grid_template_areas":null,
       "grid_template_columns":null,
       "grid_template_rows":null,
       "height":null,
       "justify_content":null,
       "justify_items":null,
       "left":null,
       "margin":null,
       "max_height":null,
       "max_width":null,
       "min_height":null,
       "min_width":null,
       "object_fit":null,
       "object_position":null,
       "order":null,
       "overflow":null,
       "overflow_x":null,
       "overflow_y":null,
       "padding":null,
       "right":null,
       "top":null,
       "visibility":null,
       "width":null
      }
     },
     "93b073cb5b0a480a9799a71876ba3ca8":{
      "model_name":"ProgressStyleModel",
      "model_module":"@jupyter-widgets\/controls",
      "model_module_version":"1.5.0",
      "state":{
       "_model_module":"@jupyter-widgets\/controls",
       "_model_module_version":"1.5.0",
       "_model_name":"ProgressStyleModel",
       "_view_count":null,
       "_view_module":"@jupyter-widgets\/base",
       "_view_module_version":"1.2.0",
       "_view_name":"StyleView",
       "bar_color":null,
       "description_width":""
      }
     },
     "04c5e9a11a214e16842aa039244d1187":{
      "model_name":"FloatProgressModel",
      "model_module":"@jupyter-widgets\/controls",
      "model_module_version":"1.5.0",
      "state":{
       "_dom_classes":[
        
       ],
       "_model_module":"@jupyter-widgets\/controls",
       "_model_module_version":"1.5.0",
       "_model_name":"FloatProgressModel",
       "_view_count":null,
       "_view_module":"@jupyter-widgets\/controls",
       "_view_module_version":"1.5.0",
       "_view_name":"ProgressView",
       "bar_style":"success",
       "description":"",
       "description_tooltip":null,
       "layout":"IPY_MODEL_8e9699b4b67145cba596d6cd2130376f",
       "max":26970,
       "min":0,
       "orientation":"horizontal",
       "style":"IPY_MODEL_93b073cb5b0a480a9799a71876ba3ca8",
       "value":26970
      }
     },
     "ee33201e68284f2ca50a0c69c7e99209":{
      "model_name":"LayoutModel",
      "model_module":"@jupyter-widgets\/base",
      "model_module_version":"1.2.0",
      "state":{
       "_model_module":"@jupyter-widgets\/base",
       "_model_module_version":"1.2.0",
       "_model_name":"LayoutModel",
       "_view_count":null,
       "_view_module":"@jupyter-widgets\/base",
       "_view_module_version":"1.2.0",
       "_view_name":"LayoutView",
       "align_content":null,
       "align_items":null,
       "align_self":null,
       "border":null,
       "bottom":null,
       "display":null,
       "flex":null,
       "flex_flow":null,
       "grid_area":null,
       "grid_auto_columns":null,
       "grid_auto_flow":null,
       "grid_auto_rows":null,
       "grid_column":null,
       "grid_gap":null,
       "grid_row":null,
       "grid_template_areas":null,
       "grid_template_columns":null,
       "grid_template_rows":null,
       "height":null,
       "justify_content":null,
       "justify_items":null,
       "left":null,
       "margin":null,
       "max_height":null,
       "max_width":null,
       "min_height":null,
       "min_width":null,
       "object_fit":null,
       "object_position":null,
       "order":null,
       "overflow":null,
       "overflow_x":null,
       "overflow_y":null,
       "padding":null,
       "right":null,
       "top":null,
       "visibility":null,
       "width":null
      }
     },
     "7e4cd648d2524362ade5fa3072bd44ef":{
      "model_name":"DescriptionStyleModel",
      "model_module":"@jupyter-widgets\/controls",
      "model_module_version":"1.5.0",
      "state":{
       "_model_module":"@jupyter-widgets\/controls",
       "_model_module_version":"1.5.0",
       "_model_name":"DescriptionStyleModel",
       "_view_count":null,
       "_view_module":"@jupyter-widgets\/base",
       "_view_module_version":"1.2.0",
       "_view_name":"StyleView",
       "description_width":""
      }
     },
     "0b7522f1555e45698d69b38502049e91":{
      "model_name":"HTMLModel",
      "model_module":"@jupyter-widgets\/controls",
      "model_module_version":"1.5.0",
      "state":{
       "_dom_classes":[
        
       ],
       "_model_module":"@jupyter-widgets\/controls",
       "_model_module_version":"1.5.0",
       "_model_name":"HTMLModel",
       "_view_count":null,
       "_view_module":"@jupyter-widgets\/controls",
       "_view_module_version":"1.5.0",
       "_view_name":"HTMLView",
       "description":"",
       "description_tooltip":null,
       "layout":"IPY_MODEL_ee33201e68284f2ca50a0c69c7e99209",
       "placeholder":"​",
       "style":"IPY_MODEL_7e4cd648d2524362ade5fa3072bd44ef",
       "value":"100%",
       "disabled":false
      }
     },
     "279077bfd51647588d9980f739a80ca1":{
      "model_name":"LayoutModel",
      "model_module":"@jupyter-widgets\/base",
      "model_module_version":"1.2.0",
      "state":{
       "_model_module":"@jupyter-widgets\/base",
       "_model_module_version":"1.2.0",
       "_model_name":"LayoutModel",
       "_view_count":null,
       "_view_module":"@jupyter-widgets\/base",
       "_view_module_version":"1.2.0",
       "_view_name":"LayoutView",
       "align_content":null,
       "align_items":null,
       "align_self":null,
       "border":null,
       "bottom":null,
       "display":null,
       "flex":null,
       "flex_flow":null,
       "grid_area":null,
       "grid_auto_columns":null,
       "grid_auto_flow":null,
       "grid_auto_rows":null,
       "grid_column":null,
       "grid_gap":null,
       "grid_row":null,
       "grid_template_areas":null,
       "grid_template_columns":null,
       "grid_template_rows":null,
       "height":null,
       "justify_content":null,
       "justify_items":null,
       "left":null,
       "margin":null,
       "max_height":null,
       "max_width":null,
       "min_height":null,
       "min_width":null,
       "object_fit":null,
       "object_position":null,
       "order":null,
       "overflow":null,
       "overflow_x":null,
       "overflow_y":null,
       "padding":null,
       "right":null,
       "top":null,
       "visibility":null,
       "width":null
      }
     },
     "8873ed7f90c744b1a48406d6a369f1f4":{
      "model_name":"DescriptionStyleModel",
      "model_module":"@jupyter-widgets\/controls",
      "model_module_version":"1.5.0",
      "state":{
       "_model_module":"@jupyter-widgets\/controls",
       "_model_module_version":"1.5.0",
       "_model_name":"DescriptionStyleModel",
       "_view_count":null,
       "_view_module":"@jupyter-widgets\/base",
       "_view_module_version":"1.2.0",
       "_view_name":"StyleView",
       "description_width":""
      }
     },
     "406c062d3aa24ad8b98473bc4d645254":{
      "model_name":"HTMLModel",
      "model_module":"@jupyter-widgets\/controls",
      "model_module_version":"1.5.0",
      "state":{
       "_dom_classes":[
        
       ],
       "_model_module":"@jupyter-widgets\/controls",
       "_model_module_version":"1.5.0",
       "_model_name":"HTMLModel",
       "_view_count":null,
       "_view_module":"@jupyter-widgets\/controls",
       "_view_module_version":"1.5.0",
       "_view_name":"HTMLView",
       "description":"",
       "description_tooltip":null,
       "layout":"IPY_MODEL_279077bfd51647588d9980f739a80ca1",
       "placeholder":"​",
       "style":"IPY_MODEL_8873ed7f90c744b1a48406d6a369f1f4",
       "value":" 26970\/26970 [00:24&lt;00:00, 1388.91it\/s]",
       "disabled":false
      }
     },
     "80c9bac3e0ed407a8a80089bdb724f0c":{
      "model_name":"LayoutModel",
      "model_module":"@jupyter-widgets\/base",
      "model_module_version":"1.2.0",
      "state":{
       "_model_module":"@jupyter-widgets\/base",
       "_model_module_version":"1.2.0",
       "_model_name":"LayoutModel",
       "_view_count":null,
       "_view_module":"@jupyter-widgets\/base",
       "_view_module_version":"1.2.0",
       "_view_name":"LayoutView",
       "align_content":null,
       "align_items":null,
       "align_self":null,
       "border":null,
       "bottom":null,
       "display":null,
       "flex":null,
       "flex_flow":null,
       "grid_area":null,
       "grid_auto_columns":null,
       "grid_auto_flow":null,
       "grid_auto_rows":null,
       "grid_column":null,
       "grid_gap":null,
       "grid_row":null,
       "grid_template_areas":null,
       "grid_template_columns":null,
       "grid_template_rows":null,
       "height":null,
       "justify_content":null,
       "justify_items":null,
       "left":null,
       "margin":null,
       "max_height":null,
       "max_width":null,
       "min_height":null,
       "min_width":null,
       "object_fit":null,
       "object_position":null,
       "order":null,
       "overflow":null,
       "overflow_x":null,
       "overflow_y":null,
       "padding":null,
       "right":null,
       "top":null,
       "visibility":null,
       "width":null
      }
     },
     "8a582d357493472481ed22edf1dd2c6e":{
      "model_name":"HBoxModel",
      "model_module":"@jupyter-widgets\/controls",
      "model_module_version":"1.5.0",
      "state":{
       "_dom_classes":[
        
       ],
       "_model_module":"@jupyter-widgets\/controls",
       "_model_module_version":"1.5.0",
       "_model_name":"HBoxModel",
       "_view_count":null,
       "_view_module":"@jupyter-widgets\/controls",
       "_view_module_version":"1.5.0",
       "_view_name":"HBoxView",
       "box_style":"",
       "children":[
        "IPY_MODEL_0b7522f1555e45698d69b38502049e91",
        "IPY_MODEL_04c5e9a11a214e16842aa039244d1187",
        "IPY_MODEL_406c062d3aa24ad8b98473bc4d645254"
       ],
       "layout":"IPY_MODEL_80c9bac3e0ed407a8a80089bdb724f0c"
      }
     }
    }
   }
  },
  "kernelspec":{
   "display_name":"Python",
   "language":"python",
   "name":"python"
  },
  "datalore":{
   "version":1,
   "computation_mode":"JUPYTER",
   "package_manager":"pip",
   "base_environment":"default",
   "packages":[
    
   ]
  }
 },
 "nbformat":4,
 "nbformat_minor":4
}